{
 "cells": [
  {
   "cell_type": "code",
   "execution_count": 3,
   "metadata": {},
   "outputs": [
    {
     "name": "stdout",
     "output_type": "stream",
     "text": [
      "Current dictionary is as follows\n",
      "{'a': 'apple', 'b': 'ball', 'c': 'cat'}\n"
     ]
    },
    {
     "name": "stdin",
     "output_type": "stream",
     "text": [
      "Enter new key to be added, or type end to stop d\n",
      "Enter value for this key dog\n"
     ]
    },
    {
     "name": "stdout",
     "output_type": "stream",
     "text": [
      "Current dictionary is as follows\n",
      "{'a': 'apple', 'b': 'ball', 'c': 'cat', 'd': 'dog'}\n"
     ]
    },
    {
     "name": "stdin",
     "output_type": "stream",
     "text": [
      "Enter new key to be added, or type end to stop end\n"
     ]
    }
   ],
   "source": [
    "result = True\n",
    "a_dict = {\"a\":\"apple\",\"b\":\"ball\",\"c\":\"cat\"}\n",
    "while(result):\n",
    "    print(\"Current dictionary is as follows\")\n",
    "    print(a_dict)\n",
    "    extra = input(\"Enter new key to be added, or type end to stop\")\n",
    "    if extra == \"end\":\n",
    "        result = False\n",
    "        break\n",
    "    else:\n",
    "        extrakey = extra\n",
    "        extravalue = input(\"Enter value for this key\")\n",
    "        a_dict[extrakey] = extravalue"
   ]
  },
  {
   "cell_type": "code",
   "execution_count": null,
   "metadata": {},
   "outputs": [],
   "source": []
  }
 ],
 "metadata": {
  "kernelspec": {
   "display_name": "Python 3",
   "language": "python",
   "name": "python3"
  },
  "language_info": {
   "codemirror_mode": {
    "name": "ipython",
    "version": 3
   },
   "file_extension": ".py",
   "mimetype": "text/x-python",
   "name": "python",
   "nbconvert_exporter": "python",
   "pygments_lexer": "ipython3",
   "version": "3.7.4"
  }
 },
 "nbformat": 4,
 "nbformat_minor": 4
}
