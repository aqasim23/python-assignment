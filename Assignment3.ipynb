{
 "cells": [
  {
   "cell_type": "code",
   "execution_count": 1,
   "metadata": {},
   "outputs": [
    {
     "name": "stdin",
     "output_type": "stream",
     "text": [
      "Enter First Number:  25\n",
      "Enter Second Number:  12\n",
      "Enter operation to perform: \n",
      "1 for addtition\n",
      "2 for subtraction\n",
      "3 for multiplication\n",
      "4 for division\n",
      "5 for power\n",
      " 4\n"
     ]
    },
    {
     "name": "stdout",
     "output_type": "stream",
     "text": [
      "The quotient of 25 and 12 is 2.0833333333333335\n"
     ]
    }
   ],
   "source": [
    "#Q1\n",
    "number1 = int(input(\"Enter First Number: \"))\n",
    "number2 = int(input(\"Enter Second Number: \"))\n",
    "opr = input(\"Enter operation to perform: \\n1 for addtition\\n2 for subtraction\\n3 for multiplication\\n4 for division\\n5 for power\\n\")\n",
    "if (opr == \"1\") :\n",
    "    result = number1 + number2\n",
    "    print(\"The sum of \" + str(number1) + \" and \" + str(number2) + \" is \" + str(result))\n",
    "if (opr == \"2\") :\n",
    "    result = number1 - number2\n",
    "    print(\"The difference between \" + str(number1) + \" and \" + str(number2) + \" is \" + str(result))\n",
    "if (opr == \"3\") :\n",
    "    result = number1 * number2\n",
    "    print(\"The product of \" + str(number1) + \" and \" + str(number2) + \" is \" + str(result))\n",
    "if (opr == \"4\") :\n",
    "    result = number1 / number2\n",
    "    print(\"The quotient of \" + str(number1) + \" and \" + str(number2) + \" is \" + str(result))\n",
    "if (opr == \"5\") :\n",
    "    result = number1 ** number2\n",
    "    print(str(number1) + \" raised to the power \" + str(number2) + \" is \" + str(result))\n"
   ]
  },
  {
   "cell_type": "code",
   "execution_count": 2,
   "metadata": {},
   "outputs": [
    {
     "name": "stdout",
     "output_type": "stream",
     "text": [
      "Numeric value(s) exist in the list\n"
     ]
    }
   ],
   "source": [
    "#Q2\n",
    "a_list = [1,2,\"Pakistan\",3,\"Japan\",\"China\",\"Korea\"]\n",
    "numeric = False\n",
    "for item in a_list:\n",
    "    if type(item) is int:\n",
    "        numeric = True\n",
    "\n",
    "if(numeric):\n",
    "    print(\"Numeric value(s) exist in the list\")\n",
    "else:\n",
    "    print(\"Numeric value(s) do not exist in the list\")    "
   ]
  },
  {
   "cell_type": "code",
   "execution_count": 3,
   "metadata": {},
   "outputs": [
    {
     "name": "stdout",
     "output_type": "stream",
     "text": [
      "Current dictionary is as follows\n",
      "{'a': 'apple', 'b': 'ball', 'c': 'cat'}\n"
     ]
    },
    {
     "name": "stdin",
     "output_type": "stream",
     "text": [
      "Enter new key to be added, or type end to stop d\n",
      "Enter value for this key dog\n"
     ]
    },
    {
     "name": "stdout",
     "output_type": "stream",
     "text": [
      "Current dictionary is as follows\n",
      "{'a': 'apple', 'b': 'ball', 'c': 'cat', 'd': 'dog'}\n"
     ]
    },
    {
     "name": "stdin",
     "output_type": "stream",
     "text": [
      "Enter new key to be added, or type end to stop end\n"
     ]
    }
   ],
   "source": [
    "#Q3\n",
    "result = True\n",
    "a_dict = {\"a\":\"apple\",\"b\":\"ball\",\"c\":\"cat\"}\n",
    "while(result):\n",
    "    print(\"Current dictionary is as follows\")\n",
    "    print(a_dict)\n",
    "    extra = input(\"Enter new key to be added, or type end to stop\")\n",
    "    if extra == \"end\":\n",
    "        result = False\n",
    "        break\n",
    "    else:\n",
    "        extrakey = extra\n",
    "        extravalue = input(\"Enter value for this key\")\n",
    "        a_dict[extrakey] = extravalue"
   ]
  },
  {
   "cell_type": "code",
   "execution_count": 4,
   "metadata": {},
   "outputs": [
    {
     "name": "stdout",
     "output_type": "stream",
     "text": [
      "{'a': 'apple', 'b': 'ball', 'c': 'cat', 1: 10, 5: 15}\n",
      "Sum of all numeric items is 31\n",
      "Sum of all numeric values is 25\n"
     ]
    }
   ],
   "source": [
    "#Q4\n",
    "a_dict = {\"a\":\"apple\",\"b\":\"ball\",\"c\":\"cat\",1:10,5:15}\n",
    "print (a_dict)\n",
    "total = 0\n",
    "totalvalues = 0\n",
    "for item in a_dict:\n",
    "    try:\n",
    "        total += item\n",
    "    except TypeError:\n",
    "        continue\n",
    "for item in a_dict.values():\n",
    "    try:\n",
    "        total += item\n",
    "        totalvalues += item\n",
    "    except TypeError:\n",
    "        continue\n",
    "\n",
    "print(\"Sum of all numeric items is \" + str(total))\n",
    "print(\"Sum of all numeric values is \" + str(totalvalues))"
   ]
  },
  {
   "cell_type": "code",
   "execution_count": 5,
   "metadata": {},
   "outputs": [
    {
     "name": "stdout",
     "output_type": "stream",
     "text": [
      "Duplicate values are [2, 3]\n"
     ]
    }
   ],
   "source": [
    "#Q5\n",
    "#a_list is the original list\n",
    "#b_list is the final list of duplicates\n",
    "a_list = [1,2,3,2,3,2,5]\n",
    "b_list = []\n",
    "#first loop will run from 1 to 5 (all values)\n",
    "for item in range(0,len(a_list)):\n",
    "    #second loop will run from one step ahead of first loop\n",
    "    #no point in repeating comparisons that have already happened\n",
    "    #for eg 1,2 is already compared, no need to compare 2,1\n",
    "    for item2 in range(item+1,len(a_list)):\n",
    "        #compare item & item2\n",
    "        if a_list[item] == a_list[item2]:\n",
    "            #if its found, then check if it already exist in our b_list\n",
    "            found = False\n",
    "            for each in b_list:\n",
    "                if a_list[item2] == each:\n",
    "                    found = True\n",
    "            if not found:\n",
    "                #if not found in b_list, then add there\n",
    "                b_list.append(a_list[item2])\n",
    "print (\"Duplicate values are \" + str(b_list))"
   ]
  },
  {
   "cell_type": "code",
   "execution_count": 6,
   "metadata": {},
   "outputs": [
    {
     "name": "stdin",
     "output_type": "stream",
     "text": [
      "Enter key to check in dictionary b\n"
     ]
    },
    {
     "name": "stdout",
     "output_type": "stream",
     "text": [
      "Dictionary is {'a': 'apple', 'b': 'ball', 'c': 'cat'}\n",
      "Found key b\n"
     ]
    }
   ],
   "source": [
    "#Q6\n",
    "a_dict = {\"a\":\"apple\",\"b\":\"ball\",\"c\":\"cat\"}\n",
    "check = input(\"Enter key to check in dictionary\")\n",
    "print (\"Dictionary is \" + str(a_dict))\n",
    "if check in a_dict:\n",
    "    print (\"Found key \" + check)\n",
    "else:\n",
    "    print (check + \" not found\")"
   ]
  },
  {
   "cell_type": "code",
   "execution_count": null,
   "metadata": {},
   "outputs": [],
   "source": []
  }
 ],
 "metadata": {
  "kernelspec": {
   "display_name": "Python 3",
   "language": "python",
   "name": "python3"
  },
  "language_info": {
   "codemirror_mode": {
    "name": "ipython",
    "version": 3
   },
   "file_extension": ".py",
   "mimetype": "text/x-python",
   "name": "python",
   "nbconvert_exporter": "python",
   "pygments_lexer": "ipython3",
   "version": "3.7.4"
  }
 },
 "nbformat": 4,
 "nbformat_minor": 4
}
