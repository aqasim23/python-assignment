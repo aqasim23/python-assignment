{
 "cells": [
  {
   "cell_type": "code",
   "execution_count": 7,
   "metadata": {},
   "outputs": [
    {
     "name": "stdout",
     "output_type": "stream",
     "text": [
      "{'a': 'apple', 'b': 'ball', 'c': 'cat', 1: 10, 5: 15}\n",
      "Sum of all numeric items is 31\n",
      "Sum of all numeric values is 25\n"
     ]
    }
   ],
   "source": [
    "a_dict = {\"a\":\"apple\",\"b\":\"ball\",\"c\":\"cat\",1:10,5:15}\n",
    "print (a_dict)\n",
    "total = 0\n",
    "totalvalues = 0\n",
    "for item in a_dict:\n",
    "    try:\n",
    "        total += item\n",
    "    except TypeError:\n",
    "        continue\n",
    "for item in a_dict.values():\n",
    "    try:\n",
    "        total += item\n",
    "        totalvalues += item\n",
    "    except TypeError:\n",
    "        continue\n",
    "\n",
    "print(\"Sum of all numeric items is \" + str(total))\n",
    "print(\"Sum of all numeric values is \" + str(totalvalues))\n"
   ]
  },
  {
   "cell_type": "code",
   "execution_count": null,
   "metadata": {},
   "outputs": [],
   "source": []
  }
 ],
 "metadata": {
  "kernelspec": {
   "display_name": "Python 3",
   "language": "python",
   "name": "python3"
  },
  "language_info": {
   "codemirror_mode": {
    "name": "ipython",
    "version": 3
   },
   "file_extension": ".py",
   "mimetype": "text/x-python",
   "name": "python",
   "nbconvert_exporter": "python",
   "pygments_lexer": "ipython3",
   "version": "3.7.4"
  }
 },
 "nbformat": 4,
 "nbformat_minor": 4
}
