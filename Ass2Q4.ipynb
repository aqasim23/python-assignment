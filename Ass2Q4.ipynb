{
 "cells": [
  {
   "cell_type": "code",
   "execution_count": 10,
   "metadata": {},
   "outputs": [
    {
     "name": "stdout",
     "output_type": "stream",
     "text": [
      "Sum of all numeric elements in list is 15\n"
     ]
    }
   ],
   "source": [
    "a_list = [\"a\",1,2,3,\"b\",4,5]\n",
    "total = 0\n",
    "for item in a_list:\n",
    "    try:\n",
    "        total+=item\n",
    "    except TypeError:\n",
    "        continue\n",
    "print (\"Sum of all numeric elements in list is \" + str(total))"
   ]
  }
 ],
 "metadata": {
  "kernelspec": {
   "display_name": "Python 3",
   "language": "python",
   "name": "python3"
  },
  "language_info": {
   "codemirror_mode": {
    "name": "ipython",
    "version": 3
   },
   "file_extension": ".py",
   "mimetype": "text/x-python",
   "name": "python",
   "nbconvert_exporter": "python",
   "pygments_lexer": "ipython3",
   "version": "3.7.4"
  }
 },
 "nbformat": 4,
 "nbformat_minor": 4
}
