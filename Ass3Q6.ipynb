{
 "cells": [
  {
   "cell_type": "code",
   "execution_count": 5,
   "metadata": {},
   "outputs": [
    {
     "name": "stdin",
     "output_type": "stream",
     "text": [
      "Enter key to check in dictionary f\n"
     ]
    },
    {
     "name": "stdout",
     "output_type": "stream",
     "text": [
      "Dictionary is {'a': 'apple', 'b': 'ball', 'c': 'cat'}\n",
      "f not found\n"
     ]
    }
   ],
   "source": [
    "a_dict = {\"a\":\"apple\",\"b\":\"ball\",\"c\":\"cat\"}\n",
    "check = input(\"Enter key to check in dictionary\")\n",
    "print (\"Dictionary is \" + str(a_dict))\n",
    "if check in a_dict:\n",
    "    print (\"Found key \" + check)\n",
    "else:\n",
    "    print (check + \" not found\")"
   ]
  },
  {
   "cell_type": "code",
   "execution_count": null,
   "metadata": {},
   "outputs": [],
   "source": []
  }
 ],
 "metadata": {
  "kernelspec": {
   "display_name": "Python 3",
   "language": "python",
   "name": "python3"
  },
  "language_info": {
   "codemirror_mode": {
    "name": "ipython",
    "version": 3
   },
   "file_extension": ".py",
   "mimetype": "text/x-python",
   "name": "python",
   "nbconvert_exporter": "python",
   "pygments_lexer": "ipython3",
   "version": "3.7.4"
  }
 },
 "nbformat": 4,
 "nbformat_minor": 4
}
