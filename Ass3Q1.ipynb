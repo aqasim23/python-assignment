{
 "cells": [
  {
   "cell_type": "code",
   "execution_count": 6,
   "metadata": {},
   "outputs": [
    {
     "name": "stdin",
     "output_type": "stream",
     "text": [
      "Enter First Number:  4\n",
      "Enter Second Number:  5\n",
      "Enter operation to perform: \n",
      "1 for addtition\n",
      "2 for subtraction\n",
      "3 for multiplication\n",
      "4 for division\n",
      "5 for power\n",
      " 5\n"
     ]
    },
    {
     "name": "stdout",
     "output_type": "stream",
     "text": [
      "4 raised to the power 5 is 1024\n"
     ]
    }
   ],
   "source": [
    "number1 = int(input(\"Enter First Number: \"))\n",
    "number2 = int(input(\"Enter Second Number: \"))\n",
    "opr = input(\"Enter operation to perform: \\n1 for addtition\\n2 for subtraction\\n3 for multiplication\\n4 for division\\n5 for power\\n\")\n",
    "if (opr == \"1\") :\n",
    "    result = number1 + number2\n",
    "    print(\"The sum of \" + str(number1) + \" and \" + str(number2) + \" is \" + str(result))\n",
    "if (opr == \"2\") :\n",
    "    result = number1 - number2\n",
    "    print(\"The difference between \" + str(number1) + \" and \" + str(number2) + \" is \" + str(result))\n",
    "if (opr == \"3\") :\n",
    "    result = number1 * number2\n",
    "    print(\"The product of \" + str(number1) + \" and \" + str(number2) + \" is \" + str(result))\n",
    "if (opr == \"4\") :\n",
    "    result = number1 / number2\n",
    "    print(\"The quotient of \" + str(number1) + \" and \" + str(number2) + \" is \" + str(result))\n",
    "if (opr == \"5\") :\n",
    "    result = number1 ** number2\n",
    "    print(str(number1) + \" raised to the power \" + str(number2) + \" is \" + str(result))\n"
   ]
  },
  {
   "cell_type": "code",
   "execution_count": null,
   "metadata": {},
   "outputs": [],
   "source": []
  }
 ],
 "metadata": {
  "kernelspec": {
   "display_name": "Python 3",
   "language": "python",
   "name": "python3"
  },
  "language_info": {
   "codemirror_mode": {
    "name": "ipython",
    "version": 3
   },
   "file_extension": ".py",
   "mimetype": "text/x-python",
   "name": "python",
   "nbconvert_exporter": "python",
   "pygments_lexer": "ipython3",
   "version": "3.7.4"
  }
 },
 "nbformat": 4,
 "nbformat_minor": 4
}
