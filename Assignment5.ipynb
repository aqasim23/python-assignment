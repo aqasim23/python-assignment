{
 "cells": [
  {
   "cell_type": "code",
   "execution_count": 1,
   "metadata": {},
   "outputs": [
    {
     "name": "stdin",
     "output_type": "stream",
     "text": [
      "Enter Number:  4\n"
     ]
    },
    {
     "name": "stdout",
     "output_type": "stream",
     "text": [
      "factorial of 4 is 24\n"
     ]
    }
   ],
   "source": [
    "#Q1\n",
    "def factorial(num):\n",
    "    total = 1\n",
    "    for i in range(1,num+1):\n",
    "        total *= i\n",
    "    return total\n",
    "\n",
    "inp = input(\"Enter Number: \")\n",
    "ans = factorial(int(inp))\n",
    "print (\"factorial of {} is {}\".format(inp,ans))"
   ]
  },
  {
   "cell_type": "code",
   "execution_count": 2,
   "metadata": {},
   "outputs": [
    {
     "name": "stdin",
     "output_type": "stream",
     "text": [
      "Enter the string     Python Programming Course Is The Best\n"
     ]
    },
    {
     "name": "stdout",
     "output_type": "stream",
     "text": [
      "Number of lower case letters: 26\n",
      "Lower case letter are: ythonrogrammingoursesheest\n",
      "Number of upper case letters: 6\n",
      "Upper case letter are: PPCITB\n"
     ]
    }
   ],
   "source": [
    "#Q2\n",
    "def checkcase(thisstring):\n",
    "    low = 0\n",
    "    lowstr = \"\"\n",
    "    up = 0\n",
    "    upstr = \"\"\n",
    "    for a in thisstring:\n",
    "        if (a.isalnum()):\n",
    "            if (a.lower() == a):\n",
    "                low += 1\n",
    "                lowstr += a\n",
    "            elif (a.upper() == a):\n",
    "                up += 1\n",
    "                upstr += a\n",
    "    print(\"Number of lower case letters: \" + str(low))\n",
    "    print(\"Lower case letter are: \" + lowstr)\n",
    "    print(\"Number of upper case letters: \" + str(up))\n",
    "    print(\"Upper case letter are: \" + upstr)\n",
    "userinput = input(\"Enter the string\")\n",
    "checkcase(userinput)"
   ]
  },
  {
   "cell_type": "code",
   "execution_count": 3,
   "metadata": {},
   "outputs": [
    {
     "name": "stdout",
     "output_type": "stream",
     "text": [
      "Even numbers in the given list are:\n",
      "2\n",
      "4\n",
      "6\n",
      "6\n",
      "8\n",
      "2\n",
      "4\n"
     ]
    }
   ],
   "source": [
    "#Q3\n",
    "def printeven(lst):\n",
    "    print(\"Even numbers in the given list are:\")\n",
    "    for num in lst:\n",
    "        if (num % 2 == 0):\n",
    "            print (num)\n",
    "a_list = [1,2,3,4,5,6,6,7,8,3,2,3,4]\n",
    "printeven(a_list)"
   ]
  },
  {
   "cell_type": "code",
   "execution_count": 4,
   "metadata": {},
   "outputs": [
    {
     "name": "stdin",
     "output_type": "stream",
     "text": [
      "Enter string hippopotamussumatopoppih\n"
     ]
    },
    {
     "name": "stdout",
     "output_type": "stream",
     "text": [
      "hippopotamussumatopoppih is Palindrome\n"
     ]
    }
   ],
   "source": [
    "#Q4\n",
    "def checkpalin(strinp):\n",
    "    newstr = \"\"\n",
    "    for char in strinp:\n",
    "        newstr = char + newstr\n",
    "    if (newstr == strinp):\n",
    "        print (strinp + \" is Palindrome\")\n",
    "    else:\n",
    "        print (\"Not Palindrome, as \" + strinp + \" becomes \" + newstr + \" when reversed\")\n",
    "strinput = input(\"Enter string\")\n",
    "checkpalin(strinput)"
   ]
  },
  {
   "cell_type": "code",
   "execution_count": 5,
   "metadata": {},
   "outputs": [
    {
     "name": "stdin",
     "output_type": "stream",
     "text": [
      "Enter number 280859\n"
     ]
    },
    {
     "name": "stdout",
     "output_type": "stream",
     "text": [
      "280859 is Prime\n"
     ]
    }
   ],
   "source": [
    "#Q5\n",
    "def checkprime(num):\n",
    "    ans = False\n",
    "    for a in range (2,num-1):\n",
    "        if (num%a == 0):\n",
    "            ans = True\n",
    "            break\n",
    "    return ans\n",
    "\n",
    "userinp = int(input(\"Enter number\"))\n",
    "if (checkprime(userinp)):\n",
    "    print(str(userinp) + \" is Not Prime\")\n",
    "else:\n",
    "    print(str(userinp) + \" is Prime\")"
   ]
  },
  {
   "cell_type": "code",
   "execution_count": 6,
   "metadata": {},
   "outputs": [
    {
     "name": "stdin",
     "output_type": "stream",
     "text": [
      "Enter shopping item of type 'print' to print the final list glass\n"
     ]
    },
    {
     "name": "stdout",
     "output_type": "stream",
     "text": [
      "glass has been added to your list\n"
     ]
    },
    {
     "name": "stdin",
     "output_type": "stream",
     "text": [
      "Enter shopping item of type 'print' to print the final list bottle\n"
     ]
    },
    {
     "name": "stdout",
     "output_type": "stream",
     "text": [
      "bottle has been added to your list\n"
     ]
    },
    {
     "name": "stdin",
     "output_type": "stream",
     "text": [
      "Enter shopping item of type 'print' to print the final list slippers\n"
     ]
    },
    {
     "name": "stdout",
     "output_type": "stream",
     "text": [
      "slippers has been added to your list\n"
     ]
    },
    {
     "name": "stdin",
     "output_type": "stream",
     "text": [
      "Enter shopping item of type 'print' to print the final list print\n"
     ]
    },
    {
     "name": "stdout",
     "output_type": "stream",
     "text": [
      "Item #1 glass\n",
      "Item #2 bottle\n",
      "Item #3 slippers\n",
      "End of program\n"
     ]
    }
   ],
   "source": [
    "#Q6\n",
    "def printshopinglist(*items):\n",
    "    for item in items:\n",
    "        ind = 1\n",
    "        for product in item:\n",
    "            print(\"Item #\"+str(ind)+\" \"+product)\n",
    "            ind += 1\n",
    "    print(\"End of program\")\n",
    "shoppingItems = [];\n",
    "while True:\n",
    "    product = input(\"Enter shopping item of type 'print' to print the final list\")\n",
    "    if (product.lower() == \"print\"):\n",
    "        printshopinglist(shoppingItems)\n",
    "        break\n",
    "    else:\n",
    "        shoppingItems.append(product)\n",
    "        print (product + \" has been added to your list\")\n",
    "        "
   ]
  },
  {
   "cell_type": "code",
   "execution_count": null,
   "metadata": {},
   "outputs": [],
   "source": []
  }
 ],
 "metadata": {
  "kernelspec": {
   "display_name": "Python 3",
   "language": "python",
   "name": "python3"
  },
  "language_info": {
   "codemirror_mode": {
    "name": "ipython",
    "version": 3
   },
   "file_extension": ".py",
   "mimetype": "text/x-python",
   "name": "python",
   "nbconvert_exporter": "python",
   "pygments_lexer": "ipython3",
   "version": "3.7.4"
  }
 },
 "nbformat": 4,
 "nbformat_minor": 4
}
