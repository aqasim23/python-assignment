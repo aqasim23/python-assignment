{
 "cells": [
  {
   "cell_type": "code",
   "execution_count": 13,
   "metadata": {},
   "outputs": [
    {
     "name": "stdout",
     "output_type": "stream",
     "text": [
      "Numeric value(s) exist in the list\n"
     ]
    }
   ],
   "source": [
    "a_list = [1,2,\"Pakistan\",3,\"Japan\",\"China\",\"Korea\"]\n",
    "numeric = False\n",
    "for item in a_list:\n",
    "    if type(item) is int:\n",
    "        numeric = True\n",
    "\n",
    "if(numeric):\n",
    "    print(\"Numeric value(s) exist in the list\")\n",
    "else:\n",
    "    print(\"Numeric value(s) do not exist in the list\")    "
   ]
  },
  {
   "cell_type": "code",
   "execution_count": null,
   "metadata": {},
   "outputs": [],
   "source": []
  }
 ],
 "metadata": {
  "kernelspec": {
   "display_name": "Python 3",
   "language": "python",
   "name": "python3"
  },
  "language_info": {
   "codemirror_mode": {
    "name": "ipython",
    "version": 3
   },
   "file_extension": ".py",
   "mimetype": "text/x-python",
   "name": "python",
   "nbconvert_exporter": "python",
   "pygments_lexer": "ipython3",
   "version": "3.7.4"
  }
 },
 "nbformat": 4,
 "nbformat_minor": 4
}
