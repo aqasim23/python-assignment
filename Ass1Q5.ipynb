{
 "cells": [
  {
   "cell_type": "code",
   "execution_count": null,
   "metadata": {},
   "outputs": [],
   "source": [
    "first_name = input(\"Enter First Name\")\n",
    "last_name = input(\"Enter Last Name\")\n",
    "rev_first_name = first_name[len(first_name)::-1]\n",
    "rev_last_name = last_name[len(last_name)::-1]\n",
    "print (rev_first_name + \" \" + rev_last_name)"
   ]
  }
 ],
 "metadata": {
  "kernelspec": {
   "display_name": "Python 3",
   "language": "python",
   "name": "python3"
  },
  "language_info": {
   "codemirror_mode": {
    "name": "ipython",
    "version": 3
   },
   "file_extension": ".py",
   "mimetype": "text/x-python",
   "name": "python",
   "nbconvert_exporter": "python",
   "pygments_lexer": "ipython3",
   "version": "3.7.4"
  }
 },
 "nbformat": 4,
 "nbformat_minor": 4
}
