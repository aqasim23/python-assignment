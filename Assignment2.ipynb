{
 "cells": [
  {
   "cell_type": "code",
   "execution_count": 1,
   "metadata": {},
   "outputs": [
    {
     "name": "stdout",
     "output_type": "stream",
     "text": [
      "Please enter marks out of 100\n"
     ]
    },
    {
     "name": "stdin",
     "output_type": "stream",
     "text": [
      "Enter marks for English  65\n",
      "Enter marks for French  52\n",
      "Enter marks for Science  25\n",
      "Enter marks for Maths  65\n",
      "Enter marks for Pak Studies  88\n"
     ]
    },
    {
     "name": "stdout",
     "output_type": "stream",
     "text": [
      "Marks for English = 65.0\n",
      "Marks for French = 52.0\n",
      "Marks for Science = 25.0\n",
      "Marks for Maths = 65.0\n",
      "Marks for Pak Studies = 88.0\n",
      "Total marks obtained = 295.0\n",
      "Percentage is 59.0\n",
      "Grade = C\n"
     ]
    }
   ],
   "source": [
    "#Q1\n",
    "def grade(percent):\n",
    "    if (percent >= 80):\n",
    "        return \"A+\"\n",
    "    elif (percent >= 70):\n",
    "        return \"A\"\n",
    "    elif (percent >= 60):\n",
    "        return \"B\"\n",
    "    elif (percent >= 50):\n",
    "        return \"C\"\n",
    "    elif (percent >= 40):\n",
    "        return \"D\"\n",
    "    elif (percent >= 30):\n",
    "        return \"D-\"\n",
    "    else:\n",
    "        return \"FAIL\"\n",
    "\n",
    "print (\"Please enter marks out of 100\")\n",
    "marks = [float(input(\"Enter marks for English \")),float(input(\"Enter marks for French \")),float(input(\"Enter marks for Science \")),float(input(\"Enter marks for Maths \")),float(input(\"Enter marks for Pak Studies \"))]\n",
    "total = 0\n",
    "for subject in marks:\n",
    "    total += subject\n",
    "percentage = total/5\n",
    "print (\"Marks for English = \"+str(marks[0]))\n",
    "print (\"Marks for French = \"+str(marks[1]))\n",
    "print (\"Marks for Science = \"+str(marks[2]))\n",
    "print (\"Marks for Maths = \"+str(marks[3]))\n",
    "print (\"Marks for Pak Studies = \"+str(marks[4]))\n",
    "print (\"Total marks obtained = \"+str(total))\n",
    "print (\"Percentage is \"+str(percentage))\n",
    "print (\"Grade = \" + grade(percentage))\n"
   ]
  },
  {
   "cell_type": "code",
   "execution_count": 2,
   "metadata": {},
   "outputs": [
    {
     "name": "stdin",
     "output_type": "stream",
     "text": [
      "Enter a number  52\n"
     ]
    },
    {
     "name": "stdout",
     "output_type": "stream",
     "text": [
      "Even number was entered\n"
     ]
    }
   ],
   "source": [
    "#Q2\n",
    "number = int(input(\"Enter a number \"))\n",
    "test = number/2\n",
    "test2 = int(number/2)\n",
    "if test == test2:\n",
    "    print(\"Even number was entered\")\n",
    "else:\n",
    "    print(\"Odd number was entered\")"
   ]
  },
  {
   "cell_type": "code",
   "execution_count": 3,
   "metadata": {},
   "outputs": [
    {
     "name": "stdout",
     "output_type": "stream",
     "text": [
      "Length of the list is 4 Elements\n"
     ]
    }
   ],
   "source": [
    "#Q3\n",
    "a_list = [\"Pakistan\",\"Japan\",\"China\",\"Korea\"]\n",
    "print (\"Length of the list is \" + str(len(a_list)) + \" Elements\")"
   ]
  },
  {
   "cell_type": "code",
   "execution_count": 4,
   "metadata": {},
   "outputs": [
    {
     "name": "stdout",
     "output_type": "stream",
     "text": [
      "Sum of all numeric elements in list is 15\n"
     ]
    }
   ],
   "source": [
    "#Q4\n",
    "a_list = [\"a\",1,2,3,\"b\",4,5]\n",
    "total = 0\n",
    "for item in a_list:\n",
    "    try:\n",
    "        total+=item\n",
    "    except TypeError:\n",
    "        continue\n",
    "print (\"Sum of all numeric elements in list is \" + str(total))"
   ]
  },
  {
   "cell_type": "code",
   "execution_count": 5,
   "metadata": {},
   "outputs": [
    {
     "name": "stdout",
     "output_type": "stream",
     "text": [
      "Largest number in list is 14\n"
     ]
    }
   ],
   "source": [
    "#Q5\n",
    "a_list = [3,2,14,1,5,2,4]\n",
    "largest = a_list[0]\n",
    "for i in a_list:\n",
    "    if i>largest:\n",
    "        largest = i\n",
    "print (\"Largest number in list is \" + str(largest))"
   ]
  },
  {
   "cell_type": "code",
   "execution_count": 6,
   "metadata": {},
   "outputs": [
    {
     "name": "stdout",
     "output_type": "stream",
     "text": [
      "1\n",
      "1\n",
      "2\n",
      "3\n"
     ]
    }
   ],
   "source": [
    "#Q6\n",
    "a = [1, 1, 2, 3, 5, 8, 13, 21, 34, 55, 89]\n",
    "for i in a:\n",
    "    if i<5:\n",
    "        print (i)"
   ]
  },
  {
   "cell_type": "code",
   "execution_count": null,
   "metadata": {},
   "outputs": [],
   "source": []
  }
 ],
 "metadata": {
  "kernelspec": {
   "display_name": "Python 3",
   "language": "python",
   "name": "python3"
  },
  "language_info": {
   "codemirror_mode": {
    "name": "ipython",
    "version": 3
   },
   "file_extension": ".py",
   "mimetype": "text/x-python",
   "name": "python",
   "nbconvert_exporter": "python",
   "pygments_lexer": "ipython3",
   "version": "3.7.4"
  }
 },
 "nbformat": 4,
 "nbformat_minor": 4
}
