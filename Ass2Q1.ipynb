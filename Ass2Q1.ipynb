{
 "cells": [
  {
   "cell_type": "code",
   "execution_count": 6,
   "metadata": {},
   "outputs": [
    {
     "name": "stdout",
     "output_type": "stream",
     "text": [
      "Please enter marks out of 100\n"
     ]
    },
    {
     "name": "stdin",
     "output_type": "stream",
     "text": [
      "Enter marks for English  25\n",
      "Enter marks for French  25\n",
      "Enter marks for Science  25\n",
      "Enter marks for Maths  25\n",
      "Enter marks for Pak Studies  25\n"
     ]
    },
    {
     "name": "stdout",
     "output_type": "stream",
     "text": [
      "Marks for English = 25.0\n",
      "Marks for French = 25.0\n",
      "Marks for Science = 25.0\n",
      "Marks for Maths = 25.0\n",
      "Marks for Pak Studies = 25.0\n",
      "Total marks obtained = 125.0\n",
      "Percentage is 25.0\n",
      "Grade = FAIL\n"
     ]
    }
   ],
   "source": [
    "def grade(percent):\n",
    "    if (percent >= 80):\n",
    "        return \"A+\"\n",
    "    elif (percent >= 70):\n",
    "        return \"A\"\n",
    "    elif (percent >= 60):\n",
    "        return \"B\"\n",
    "    elif (percent >= 50):\n",
    "        return \"C\"\n",
    "    elif (percent >= 40):\n",
    "        return \"D\"\n",
    "    elif (percent >= 30):\n",
    "        return \"D-\"\n",
    "    else:\n",
    "        return \"FAIL\"\n",
    "\n",
    "print (\"Please enter marks out of 100\")\n",
    "marks = [float(input(\"Enter marks for English \")),float(input(\"Enter marks for French \")),float(input(\"Enter marks for Science \")),float(input(\"Enter marks for Maths \")),float(input(\"Enter marks for Pak Studies \"))]\n",
    "total = 0\n",
    "for subject in marks:\n",
    "    total += subject\n",
    "percentage = total/5\n",
    "print (\"Marks for English = \"+str(marks[0]))\n",
    "print (\"Marks for French = \"+str(marks[1]))\n",
    "print (\"Marks for Science = \"+str(marks[2]))\n",
    "print (\"Marks for Maths = \"+str(marks[3]))\n",
    "print (\"Marks for Pak Studies = \"+str(marks[4]))\n",
    "print (\"Total marks obtained = \"+str(total))\n",
    "print (\"Percentage is \"+str(percentage))\n",
    "print (\"Grade = \" + grade(percentage))\n"
   ]
  },
  {
   "cell_type": "code",
   "execution_count": null,
   "metadata": {},
   "outputs": [],
   "source": []
  }
 ],
 "metadata": {
  "kernelspec": {
   "display_name": "Python 3",
   "language": "python",
   "name": "python3"
  },
  "language_info": {
   "codemirror_mode": {
    "name": "ipython",
    "version": 3
   },
   "file_extension": ".py",
   "mimetype": "text/x-python",
   "name": "python",
   "nbconvert_exporter": "python",
   "pygments_lexer": "ipython3",
   "version": "3.7.4"
  }
 },
 "nbformat": 4,
 "nbformat_minor": 4
}
