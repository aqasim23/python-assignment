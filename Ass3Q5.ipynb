{
 "cells": [
  {
   "cell_type": "code",
   "execution_count": null,
   "metadata": {},
   "outputs": [],
   "source": [
    "#a_list is the original list\n",
    "#b_list is the final list of duplicates\n",
    "a_list = [1,2,3,2,3,2,5]\n",
    "b_list = []\n",
    "#first loop will run from 1 to 5 (all values)\n",
    "for item in range(0,len(a_list)):\n",
    "    #second loop will run from one step ahead of first loop\n",
    "    #no point in repeating comparisons that have already happened\n",
    "    #for eg 1,2 is already compared, no need to compare 2,1\n",
    "    for item2 in range(item+1,len(a_list)):\n",
    "        #compare item & item2\n",
    "        if a_list[item] == a_list[item2]:\n",
    "            #if its found, then check if it already exist in our b_list\n",
    "            found = False\n",
    "            for each in b_list:\n",
    "                if a_list[item2] == each:\n",
    "                    found = True\n",
    "            if not found:\n",
    "                #if not found in b_list, then add there\n",
    "                b_list.append(a_list[item2])\n",
    "print (\"Duplicate values are \" + str(b_list))"
   ]
  }
 ],
 "metadata": {
  "kernelspec": {
   "display_name": "Python 3",
   "language": "python",
   "name": "python3"
  },
  "language_info": {
   "codemirror_mode": {
    "name": "ipython",
    "version": 3
   },
   "file_extension": ".py",
   "mimetype": "text/x-python",
   "name": "python",
   "nbconvert_exporter": "python",
   "pygments_lexer": "ipython3",
   "version": "3.7.4"
  }
 },
 "nbformat": 4,
 "nbformat_minor": 4
}
