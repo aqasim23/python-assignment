{
 "cells": [
  {
   "cell_type": "code",
   "execution_count": 1,
   "metadata": {},
   "outputs": [
    {
     "name": "stdout",
     "output_type": "stream",
     "text": [
      "All information in dictionary is \n",
      "{'First Name': 'Sheeraz', 'Last Name': 'Mustafa', 'Age': '24', 'City': 'Karachi'}\n",
      "\n",
      "After adding new key:value pair\n",
      "{'First Name': 'Sheeraz', 'Last Name': 'Mustafa', 'Age': '24', 'City': 'Karachi', 'Qualification': 'Matric'}\n",
      "\n",
      "After editing new key:value pair\n",
      "{'First Name': 'Sheeraz', 'Last Name': 'Mustafa', 'Age': '24', 'City': 'Karachi', 'Qualification': 'PhD'}\n",
      "\n",
      "After deleting new key:value pair\n",
      "{'First Name': 'Sheeraz', 'Last Name': 'Mustafa', 'Age': '24', 'City': 'Karachi'}\n"
     ]
    }
   ],
   "source": [
    "#Q1\n",
    "a_dict = {\"First Name\":\"Sheeraz\",\"Last Name\":\"Mustafa\",\"Age\":\"24\",\"City\":\"Karachi\"}\n",
    "print (\"All information in dictionary is \\n\" + str(a_dict))\n",
    "a_dict[\"Qualification\"] = \"Matric\"\n",
    "print (\"\\nAfter adding new key:value pair\\n\" + str(a_dict))\n",
    "a_dict[\"Qualification\"] = \"PhD\"\n",
    "print (\"\\nAfter editing new key:value pair\\n\" + str(a_dict))\n",
    "del a_dict[\"Qualification\"]\n",
    "print (\"\\nAfter deleting new key:value pair\\n\" + str(a_dict))\n"
   ]
  },
  {
   "cell_type": "code",
   "execution_count": 2,
   "metadata": {},
   "outputs": [
    {
     "name": "stdout",
     "output_type": "stream",
     "text": [
      "City Name: Karachi\n",
      "Country: Pakistan\n",
      "Population: 24m\n",
      "Fact: Earlier known as Kolachi\n",
      "\n",
      "\n",
      "City Name: Kuala Lumpur\n",
      "Country: Malaysia\n",
      "Population: 1.808m\n",
      "Fact: Found in 1857 by tin miners\n",
      "\n",
      "\n",
      "City Name: Bangkok\n",
      "Country: Thailand\n",
      "Population: 9.28m\n",
      "Fact: Known as City of Angels\n",
      "\n",
      "\n"
     ]
    }
   ],
   "source": [
    "#Q2\n",
    "cities = {\"Karachi\":{\"Country\":\"Pakistan\",\"Population\":\"24m\",\"Fact\":\"Earlier known as Kolachi\"},\n",
    "          \"Kuala Lumpur\":{\"Country\":\"Malaysia\",\"Population\":\"1.808m\",\"Fact\":\"Found in 1857 by tin miners\"},\n",
    "          \"Bangkok\":{\"Country\":\"Thailand\",\"Population\":\"9.28m\",\"Fact\":\"Known as City of Angels\"}}\n",
    "for city,infos in cities.items():\n",
    "    print (\"City Name: \" + city)\n",
    "    for head,info in infos.items():\n",
    "        print (head + \": \" + info)\n",
    "    print (\"\\n\")"
   ]
  },
  {
   "cell_type": "code",
   "execution_count": null,
   "metadata": {},
   "outputs": [
    {
     "name": "stdout",
     "output_type": "stream",
     "text": [
      "Welcome to SMIT Movie Theatre\n",
      "Ticket prices are as follows:\n",
      "Less than 3 yrs age = Free\n",
      "Age between 3 and 12 = $10\n",
      "Age more than 12 yrs = $15\n"
     ]
    },
    {
     "name": "stdin",
     "output_type": "stream",
     "text": [
      "Enter Customer's Age 25\n"
     ]
    },
    {
     "name": "stdout",
     "output_type": "stream",
     "text": [
      "The ticket price is $15\n"
     ]
    },
    {
     "name": "stdin",
     "output_type": "stream",
     "text": [
      "Enter Customer's Age 12\n"
     ]
    },
    {
     "name": "stdout",
     "output_type": "stream",
     "text": [
      "The ticket price is $10\n"
     ]
    },
    {
     "name": "stdin",
     "output_type": "stream",
     "text": [
      "Enter Customer's Age 3\n"
     ]
    },
    {
     "name": "stdout",
     "output_type": "stream",
     "text": [
      "The ticket price is Free\n"
     ]
    }
   ],
   "source": [
    "#Q3\n",
    "print(\"Welcome to SMIT Movie Theatre\")\n",
    "print(\"Ticket prices are as follows:\")\n",
    "print(\"Less than 3 yrs age = Free\")\n",
    "print(\"Age between 3 and 12 = $10\")\n",
    "print(\"Age more than 12 yrs = $15\")\n",
    "while (True):\n",
    "    age = float(input(\"Enter Customer's Age\"))\n",
    "    if (age > 12):\n",
    "        price = \"$15\"\n",
    "    elif (age > 3):\n",
    "        price = \"$10\"\n",
    "    else:\n",
    "        price = \"Free\"\n",
    "    print (\"The ticket price is \" + price)\n",
    "        "
   ]
  },
  {
   "cell_type": "code",
   "execution_count": 1,
   "metadata": {},
   "outputs": [
    {
     "name": "stdin",
     "output_type": "stream",
     "text": [
      "Enter name of the book:  Smarter Way to Learn Python\n"
     ]
    },
    {
     "name": "stdout",
     "output_type": "stream",
     "text": [
      "One of my favorite books is Smarter Way to Learn Python\n",
      "\n"
     ]
    }
   ],
   "source": [
    "#Q4\n",
    "def favorite_book(title):\n",
    "    print (\"One of my favorite books is \" + title + \"\\n\")\n",
    "book = input(\"Enter name of the book: \")\n",
    "favorite_book(book)"
   ]
  },
  {
   "cell_type": "code",
   "execution_count": 2,
   "metadata": {},
   "outputs": [
    {
     "name": "stdout",
     "output_type": "stream",
     "text": [
      "A number between 1 and 30 has been chosen. You have to guess it correctly within 3 tries\n"
     ]
    },
    {
     "name": "stdin",
     "output_type": "stream",
     "text": [
      "Enter Guess # 1:  15\n"
     ]
    },
    {
     "name": "stdout",
     "output_type": "stream",
     "text": [
      "Wrong. Your guess is higher than chosen number\n"
     ]
    },
    {
     "name": "stdin",
     "output_type": "stream",
     "text": [
      "Enter Guess # 2:  10\n"
     ]
    },
    {
     "name": "stdout",
     "output_type": "stream",
     "text": [
      "Wrong. Your guess is higher than chosen number\n"
     ]
    },
    {
     "name": "stdin",
     "output_type": "stream",
     "text": [
      "Enter Guess # 3:  5\n"
     ]
    },
    {
     "name": "stdout",
     "output_type": "stream",
     "text": [
      "Wrong. Your guess is higher than chosen number\n",
      "Correct answer was 4\n"
     ]
    }
   ],
   "source": [
    "#Q5\n",
    "from random import *\n",
    "global ans\n",
    "correctans = randint(1,30)\n",
    "print (\"A number between 1 and 30 has been chosen. You have to guess it correctly within 3 tries\")\n",
    "for x in range(3):\n",
    "    ans = int(input(\"Enter Guess # \" + str(x+1) + \": \"))\n",
    "    if (ans == correctans):\n",
    "        print (\"Yes that is correct. Congratulations!!\")\n",
    "        break\n",
    "    elif (ans < correctans):\n",
    "        print (\"Wrong. Your guess is lower than chosen number\")\n",
    "    elif (ans > correctans):\n",
    "        print (\"Wrong. Your guess is higher than chosen number\")\n",
    "if (ans != correctans):\n",
    "    print (\"Correct answer was \" + str(correctans))"
   ]
  },
  {
   "cell_type": "code",
   "execution_count": null,
   "metadata": {},
   "outputs": [],
   "source": []
  }
 ],
 "metadata": {
  "kernelspec": {
   "display_name": "Python 3",
   "language": "python",
   "name": "python3"
  },
  "language_info": {
   "codemirror_mode": {
    "name": "ipython",
    "version": 3
   },
   "file_extension": ".py",
   "mimetype": "text/x-python",
   "name": "python",
   "nbconvert_exporter": "python",
   "pygments_lexer": "ipython3",
   "version": "3.7.4"
  }
 },
 "nbformat": 4,
 "nbformat_minor": 4
}
